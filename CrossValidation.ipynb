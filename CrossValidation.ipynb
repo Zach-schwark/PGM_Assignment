{
 "cells": [
  {
   "cell_type": "markdown",
   "metadata": {},
   "source": [
    "This file is to Evaluate using k-Fold Cross Validation"
   ]
  },
  {
   "cell_type": "code",
   "execution_count": 1,
   "metadata": {},
   "outputs": [
    {
     "name": "stderr",
     "output_type": "stream",
     "text": [
      "c:\\Users\\zachs\\AppData\\Local\\Programs\\Python\\Python312\\Lib\\site-packages\\tqdm\\auto.py:21: TqdmWarning: IProgress not found. Please update jupyter and ipywidgets. See https://ipywidgets.readthedocs.io/en/stable/user_install.html\n",
      "  from .autonotebook import tqdm as notebook_tqdm\n"
     ]
    }
   ],
   "source": [
    "from preprocessing import Preprocessing as myData\n",
    "from ModelEvaluation import ModelEvaluation\n",
    "from pgmpy.readwrite import BIFReader\n",
    "import pandas as pd"
   ]
  },
  {
   "cell_type": "markdown",
   "metadata": {},
   "source": [
    "Import Model"
   ]
  },
  {
   "cell_type": "code",
   "execution_count": 2,
   "metadata": {},
   "outputs": [],
   "source": [
    "reader = BIFReader(\"model.bif\")\n",
    "model = reader.get_model(state_name_type=float)"
   ]
  },
  {
   "cell_type": "markdown",
   "metadata": {},
   "source": [
    "Year 1"
   ]
  },
  {
   "cell_type": "code",
   "execution_count": 3,
   "metadata": {},
   "outputs": [
    {
     "name": "stderr",
     "output_type": "stream",
     "text": [
      "  1%|          | 57/10000 [00:11<34:26,  4.81it/s]  \n",
      "c:\\Users\\zachs\\AppData\\Local\\Programs\\Python\\Python312\\Lib\\site-packages\\sklearn\\metrics\\_classification.py:1509: UndefinedMetricWarning: Precision is ill-defined and being set to 0.0 due to no predicted samples. Use `zero_division` parameter to control this behavior.\n",
      "  _warn_prf(average, modifier, f\"{metric.capitalize()} is\", len(result))\n",
      "  1%|          | 56/10000 [00:11<35:28,  4.67it/s]  \n",
      "c:\\Users\\zachs\\AppData\\Local\\Programs\\Python\\Python312\\Lib\\site-packages\\sklearn\\metrics\\_classification.py:1509: UndefinedMetricWarning: Precision is ill-defined and being set to 0.0 due to no predicted samples. Use `zero_division` parameter to control this behavior.\n",
      "  _warn_prf(average, modifier, f\"{metric.capitalize()} is\", len(result))\n",
      "  1%|          | 56/10000 [00:11<34:50,  4.76it/s]  \n",
      "c:\\Users\\zachs\\AppData\\Local\\Programs\\Python\\Python312\\Lib\\site-packages\\sklearn\\metrics\\_classification.py:1509: UndefinedMetricWarning: Precision is ill-defined and being set to 0.0 due to no predicted samples. Use `zero_division` parameter to control this behavior.\n",
      "  _warn_prf(average, modifier, f\"{metric.capitalize()} is\", len(result))\n",
      "  1%|          | 54/10000 [00:11<36:29,  4.54it/s]  \n"
     ]
    },
    {
     "name": "stdout",
     "output_type": "stream",
     "text": [
      "An Error occurred during inference.\n"
     ]
    },
    {
     "name": "stderr",
     "output_type": "stream",
     "text": [
      "  1%|          | 54/10000 [00:11<35:07,  4.72it/s]  \n"
     ]
    },
    {
     "name": "stdout",
     "output_type": "stream",
     "text": [
      "An Error occurred during inference.\n"
     ]
    },
    {
     "name": "stderr",
     "output_type": "stream",
     "text": [
      "  1%|          | 55/10000 [00:11<34:58,  4.74it/s]  \n",
      "c:\\Users\\zachs\\AppData\\Local\\Programs\\Python\\Python312\\Lib\\site-packages\\sklearn\\metrics\\_classification.py:1509: UndefinedMetricWarning: Precision is ill-defined and being set to 0.0 due to no predicted samples. Use `zero_division` parameter to control this behavior.\n",
      "  _warn_prf(average, modifier, f\"{metric.capitalize()} is\", len(result))\n",
      "  1%|          | 56/10000 [00:12<37:01,  4.48it/s]  \n",
      "c:\\Users\\zachs\\AppData\\Local\\Programs\\Python\\Python312\\Lib\\site-packages\\sklearn\\metrics\\_classification.py:1509: UndefinedMetricWarning: F-score is ill-defined and being set to 0.0 due to no true nor predicted samples. Use `zero_division` parameter to control this behavior.\n",
      "  _warn_prf(average, modifier, f\"{metric.capitalize()} is\", len(result))\n",
      "c:\\Users\\zachs\\AppData\\Local\\Programs\\Python\\Python312\\Lib\\site-packages\\sklearn\\metrics\\_classification.py:1509: UndefinedMetricWarning: Precision is ill-defined and being set to 0.0 due to no predicted samples. Use `zero_division` parameter to control this behavior.\n",
      "  _warn_prf(average, modifier, f\"{metric.capitalize()} is\", len(result))\n",
      "c:\\Users\\zachs\\AppData\\Local\\Programs\\Python\\Python312\\Lib\\site-packages\\sklearn\\metrics\\_classification.py:1509: UndefinedMetricWarning: Recall is ill-defined and being set to 0.0 due to no true samples. Use `zero_division` parameter to control this behavior.\n",
      "  _warn_prf(average, modifier, f\"{metric.capitalize()} is\", len(result))\n",
      "  1%|          | 55/10000 [00:12<38:21,  4.32it/s]  \n"
     ]
    },
    {
     "name": "stdout",
     "output_type": "stream",
     "text": [
      "An Error occurred during inference.\n"
     ]
    },
    {
     "name": "stderr",
     "output_type": "stream",
     "text": [
      "  1%|          | 55/10000 [00:11<35:06,  4.72it/s]  \n",
      "c:\\Users\\zachs\\AppData\\Local\\Programs\\Python\\Python312\\Lib\\site-packages\\sklearn\\metrics\\_classification.py:1509: UndefinedMetricWarning: Precision is ill-defined and being set to 0.0 due to no predicted samples. Use `zero_division` parameter to control this behavior.\n",
      "  _warn_prf(average, modifier, f\"{metric.capitalize()} is\", len(result))\n",
      "  1%|          | 54/10000 [00:11<35:46,  4.63it/s]  \n"
     ]
    },
    {
     "name": "stdout",
     "output_type": "stream",
     "text": [
      "An Error occurred during inference.\n",
      "Mean Accuracy: 0.993730407523511\n",
      "Mean F1: 0.0\n",
      "Mean Precision: 0.0\n",
      "Mean Recall: 0.0\n"
     ]
    }
   ],
   "source": [
    "year_1_Data = myData.importData(year = str(1))\n",
    "processeed_year_1_Data = myData.normalizeAndStandardizeData(data=year_1_Data)\n",
    "\n",
    "discrete_year_1 = myData.discretizeData(rawData=year_1_Data, processedData=processeed_year_1_Data)\n",
    "\n",
    "randomised_discrete_year_1 = discrete_year_1.sample(frac = 1)\n",
    "\n",
    "\n",
    "folds = ModelEvaluation.kfold_indices(data = randomised_discrete_year_1, k = 10 )\n",
    "ModelEvaluation.perfrom_KfoldCrossValidation(folds = folds, data=randomised_discrete_year_1)"
   ]
  },
  {
   "cell_type": "markdown",
   "metadata": {},
   "source": [
    "Year 2"
   ]
  },
  {
   "cell_type": "code",
   "execution_count": 4,
   "metadata": {},
   "outputs": [
    {
     "name": "stderr",
     "output_type": "stream",
     "text": [
      "  1%|          | 60/10000 [00:12<35:15,  4.70it/s]  \n",
      "c:\\Users\\zachs\\AppData\\Local\\Programs\\Python\\Python312\\Lib\\site-packages\\sklearn\\metrics\\_classification.py:1509: UndefinedMetricWarning: Precision is ill-defined and being set to 0.0 due to no predicted samples. Use `zero_division` parameter to control this behavior.\n",
      "  _warn_prf(average, modifier, f\"{metric.capitalize()} is\", len(result))\n",
      "  1%|          | 61/10000 [00:12<35:12,  4.70it/s]  \n",
      "  1%|          | 61/10000 [00:14<38:36,  4.29it/s]  \n",
      "  1%|          | 62/10000 [00:13<35:52,  4.62it/s]  \n",
      "c:\\Users\\zachs\\AppData\\Local\\Programs\\Python\\Python312\\Lib\\site-packages\\sklearn\\metrics\\_classification.py:1509: UndefinedMetricWarning: Precision is ill-defined and being set to 0.0 due to no predicted samples. Use `zero_division` parameter to control this behavior.\n",
      "  _warn_prf(average, modifier, f\"{metric.capitalize()} is\", len(result))\n",
      "  1%|          | 60/10000 [00:12<34:22,  4.82it/s]  \n",
      "c:\\Users\\zachs\\AppData\\Local\\Programs\\Python\\Python312\\Lib\\site-packages\\sklearn\\metrics\\_classification.py:1509: UndefinedMetricWarning: Precision is ill-defined and being set to 0.0 due to no predicted samples. Use `zero_division` parameter to control this behavior.\n",
      "  _warn_prf(average, modifier, f\"{metric.capitalize()} is\", len(result))\n",
      "  1%|          | 60/10000 [00:12<34:23,  4.82it/s]  \n",
      "c:\\Users\\zachs\\AppData\\Local\\Programs\\Python\\Python312\\Lib\\site-packages\\sklearn\\metrics\\_classification.py:1509: UndefinedMetricWarning: Precision is ill-defined and being set to 0.0 due to no predicted samples. Use `zero_division` parameter to control this behavior.\n",
      "  _warn_prf(average, modifier, f\"{metric.capitalize()} is\", len(result))\n",
      "  1%|          | 61/10000 [00:12<34:30,  4.80it/s]  \n",
      "  1%|          | 60/10000 [00:12<35:50,  4.62it/s]  \n",
      "c:\\Users\\zachs\\AppData\\Local\\Programs\\Python\\Python312\\Lib\\site-packages\\sklearn\\metrics\\_classification.py:1509: UndefinedMetricWarning: Precision is ill-defined and being set to 0.0 due to no predicted samples. Use `zero_division` parameter to control this behavior.\n",
      "  _warn_prf(average, modifier, f\"{metric.capitalize()} is\", len(result))\n",
      "  1%|          | 61/10000 [00:13<35:51,  4.62it/s]  \n",
      "c:\\Users\\zachs\\AppData\\Local\\Programs\\Python\\Python312\\Lib\\site-packages\\sklearn\\metrics\\_classification.py:1509: UndefinedMetricWarning: Precision is ill-defined and being set to 0.0 due to no predicted samples. Use `zero_division` parameter to control this behavior.\n",
      "  _warn_prf(average, modifier, f\"{metric.capitalize()} is\", len(result))\n",
      "  1%|          | 63/10000 [00:12<33:56,  4.88it/s]  \n"
     ]
    },
    {
     "name": "stdout",
     "output_type": "stream",
     "text": [
      "Mean Accuracy: 0.9816176470588236\n",
      "Mean F1: 0.16666666666666666\n",
      "Mean Precision: 0.14285714285714285\n",
      "Mean Recall: 0.2\n"
     ]
    }
   ],
   "source": [
    "year_2_Data = myData.importData(year = str(2))\n",
    "processeed_year_2_Data = myData.normalizeAndStandardizeData(data=year_2_Data)\n",
    "\n",
    "discrete_year_2 = myData.discretizeData(rawData=year_2_Data, processedData=processeed_year_2_Data)\n",
    "\n",
    "randomised_discrete_year_2 = discrete_year_2.sample(frac = 1)\n",
    "\n",
    "\n",
    "folds = ModelEvaluation.kfold_indices(data = randomised_discrete_year_2, k = 10 )\n",
    "ModelEvaluation.perfrom_KfoldCrossValidation(folds = folds, data=randomised_discrete_year_2)"
   ]
  },
  {
   "cell_type": "markdown",
   "metadata": {},
   "source": [
    "Year 3"
   ]
  },
  {
   "cell_type": "code",
   "execution_count": 5,
   "metadata": {},
   "outputs": [
    {
     "name": "stderr",
     "output_type": "stream",
     "text": [
      "  1%|          | 61/10000 [00:12<35:10,  4.71it/s]  \n",
      "c:\\Users\\zachs\\AppData\\Local\\Programs\\Python\\Python312\\Lib\\site-packages\\sklearn\\metrics\\_classification.py:1509: UndefinedMetricWarning: Precision is ill-defined and being set to 0.0 due to no predicted samples. Use `zero_division` parameter to control this behavior.\n",
      "  _warn_prf(average, modifier, f\"{metric.capitalize()} is\", len(result))\n",
      "  1%|          | 60/10000 [00:13<35:58,  4.61it/s]  \n",
      "c:\\Users\\zachs\\AppData\\Local\\Programs\\Python\\Python312\\Lib\\site-packages\\sklearn\\metrics\\_classification.py:1509: UndefinedMetricWarning: Precision is ill-defined and being set to 0.0 due to no predicted samples. Use `zero_division` parameter to control this behavior.\n",
      "  _warn_prf(average, modifier, f\"{metric.capitalize()} is\", len(result))\n",
      "  1%|          | 62/10000 [00:13<35:55,  4.61it/s]  \n",
      "c:\\Users\\zachs\\AppData\\Local\\Programs\\Python\\Python312\\Lib\\site-packages\\sklearn\\metrics\\_classification.py:1509: UndefinedMetricWarning: Precision is ill-defined and being set to 0.0 due to no predicted samples. Use `zero_division` parameter to control this behavior.\n",
      "  _warn_prf(average, modifier, f\"{metric.capitalize()} is\", len(result))\n",
      "  1%|          | 62/10000 [00:13<35:40,  4.64it/s]  \n",
      "c:\\Users\\zachs\\AppData\\Local\\Programs\\Python\\Python312\\Lib\\site-packages\\sklearn\\metrics\\_classification.py:1509: UndefinedMetricWarning: Precision is ill-defined and being set to 0.0 due to no predicted samples. Use `zero_division` parameter to control this behavior.\n",
      "  _warn_prf(average, modifier, f\"{metric.capitalize()} is\", len(result))\n",
      "  1%|          | 62/10000 [00:14<38:11,  4.34it/s]  \n",
      "c:\\Users\\zachs\\AppData\\Local\\Programs\\Python\\Python312\\Lib\\site-packages\\sklearn\\metrics\\_classification.py:1509: UndefinedMetricWarning: Precision is ill-defined and being set to 0.0 due to no predicted samples. Use `zero_division` parameter to control this behavior.\n",
      "  _warn_prf(average, modifier, f\"{metric.capitalize()} is\", len(result))\n",
      "  1%|          | 62/10000 [00:13<34:53,  4.75it/s]  \n",
      "c:\\Users\\zachs\\AppData\\Local\\Programs\\Python\\Python312\\Lib\\site-packages\\sklearn\\metrics\\_classification.py:1509: UndefinedMetricWarning: Precision is ill-defined and being set to 0.0 due to no predicted samples. Use `zero_division` parameter to control this behavior.\n",
      "  _warn_prf(average, modifier, f\"{metric.capitalize()} is\", len(result))\n",
      "  1%|          | 63/10000 [00:13<35:00,  4.73it/s]  \n",
      "c:\\Users\\zachs\\AppData\\Local\\Programs\\Python\\Python312\\Lib\\site-packages\\sklearn\\metrics\\_classification.py:1509: UndefinedMetricWarning: Precision is ill-defined and being set to 0.0 due to no predicted samples. Use `zero_division` parameter to control this behavior.\n",
      "  _warn_prf(average, modifier, f\"{metric.capitalize()} is\", len(result))\n",
      "  1%|          | 63/10000 [00:13<34:31,  4.80it/s]  \n",
      "c:\\Users\\zachs\\AppData\\Local\\Programs\\Python\\Python312\\Lib\\site-packages\\sklearn\\metrics\\_classification.py:1509: UndefinedMetricWarning: Precision is ill-defined and being set to 0.0 due to no predicted samples. Use `zero_division` parameter to control this behavior.\n",
      "  _warn_prf(average, modifier, f\"{metric.capitalize()} is\", len(result))\n",
      "  1%|          | 62/10000 [00:13<35:48,  4.63it/s]  \n",
      "c:\\Users\\zachs\\AppData\\Local\\Programs\\Python\\Python312\\Lib\\site-packages\\sklearn\\metrics\\_classification.py:1509: UndefinedMetricWarning: Precision is ill-defined and being set to 0.0 due to no predicted samples. Use `zero_division` parameter to control this behavior.\n",
      "  _warn_prf(average, modifier, f\"{metric.capitalize()} is\", len(result))\n",
      "  1%|          | 63/10000 [00:13<34:55,  4.74it/s]  \n"
     ]
    },
    {
     "name": "stdout",
     "output_type": "stream",
     "text": [
      "Mean Accuracy: 0.9780737704918033\n",
      "Mean F1: 0.0\n",
      "Mean Precision: 0.0\n",
      "Mean Recall: 0.0\n"
     ]
    },
    {
     "name": "stderr",
     "output_type": "stream",
     "text": [
      "c:\\Users\\zachs\\AppData\\Local\\Programs\\Python\\Python312\\Lib\\site-packages\\sklearn\\metrics\\_classification.py:1509: UndefinedMetricWarning: Precision is ill-defined and being set to 0.0 due to no predicted samples. Use `zero_division` parameter to control this behavior.\n",
      "  _warn_prf(average, modifier, f\"{metric.capitalize()} is\", len(result))\n"
     ]
    }
   ],
   "source": [
    "year_3_Data = myData.importData(year = str(3))\n",
    "processeed_year_3_Data = myData.normalizeAndStandardizeData(data=year_3_Data)\n",
    "\n",
    "discrete_year_3 = myData.discretizeData(rawData=year_3_Data, processedData=processeed_year_3_Data)\n",
    "\n",
    "randomised_discrete_year_3 = discrete_year_3.sample(frac = 1)\n",
    "\n",
    "\n",
    "folds = ModelEvaluation.kfold_indices(data = randomised_discrete_year_3, k = 10 )\n",
    "ModelEvaluation.perfrom_KfoldCrossValidation(folds = folds, data=randomised_discrete_year_3)"
   ]
  },
  {
   "cell_type": "markdown",
   "metadata": {},
   "source": [
    "Year 4"
   ]
  },
  {
   "cell_type": "code",
   "execution_count": 6,
   "metadata": {},
   "outputs": [
    {
     "name": "stderr",
     "output_type": "stream",
     "text": [
      "  1%|          | 59/10000 [00:14<39:51,  4.16it/s]  \n",
      "c:\\Users\\zachs\\AppData\\Local\\Programs\\Python\\Python312\\Lib\\site-packages\\sklearn\\metrics\\_classification.py:1509: UndefinedMetricWarning: Precision is ill-defined and being set to 0.0 due to no predicted samples. Use `zero_division` parameter to control this behavior.\n",
      "  _warn_prf(average, modifier, f\"{metric.capitalize()} is\", len(result))\n",
      "  1%|          | 60/10000 [00:13<36:04,  4.59it/s]  \n",
      "  1%|          | 60/10000 [00:13<36:20,  4.56it/s]  \n",
      "  1%|          | 60/10000 [00:12<35:26,  4.67it/s]  \n",
      "  1%|          | 60/10000 [00:12<35:13,  4.70it/s]  \n",
      "  1%|          | 61/10000 [00:12<34:27,  4.81it/s]  \n",
      "  1%|          | 61/10000 [00:12<34:41,  4.77it/s]  \n",
      "  1%|          | 61/10000 [00:12<34:43,  4.77it/s]  \n",
      "  1%|          | 60/10000 [00:12<35:02,  4.73it/s]  \n",
      "  1%|          | 61/10000 [00:13<35:24,  4.68it/s]  \n"
     ]
    },
    {
     "name": "stdout",
     "output_type": "stream",
     "text": [
      "Mean Accuracy: 0.9720588235294118\n",
      "Mean F1: 0.14285714285714285\n",
      "Mean Precision: 0.25\n",
      "Mean Recall: 0.1\n"
     ]
    }
   ],
   "source": [
    "year_4_Data = myData.importData(year = str(4))\n",
    "processeed_year_4_Data = myData.normalizeAndStandardizeData(data=year_4_Data)\n",
    "\n",
    "discrete_year_4 = myData.discretizeData(rawData=year_4_Data, processedData=processeed_year_4_Data)\n",
    "\n",
    "randomised_discrete_year_4 = discrete_year_4.sample(frac = 1)\n",
    "\n",
    "\n",
    "folds = ModelEvaluation.kfold_indices(data = randomised_discrete_year_4, k = 10 )\n",
    "ModelEvaluation.perfrom_KfoldCrossValidation(folds = folds, data=randomised_discrete_year_4)"
   ]
  },
  {
   "cell_type": "markdown",
   "metadata": {},
   "source": [
    "Year 5"
   ]
  },
  {
   "cell_type": "code",
   "execution_count": 7,
   "metadata": {},
   "outputs": [
    {
     "name": "stderr",
     "output_type": "stream",
     "text": [
      "  1%|          | 57/10000 [00:11<34:22,  4.82it/s]  \n",
      "  1%|          | 57/10000 [00:11<34:45,  4.77it/s]  \n",
      "  1%|          | 57/10000 [00:11<34:37,  4.79it/s]  \n",
      "  1%|          | 55/10000 [00:11<34:30,  4.80it/s]  \n",
      "  1%|          | 58/10000 [00:11<33:24,  4.96it/s]  \n",
      "  1%|          | 57/10000 [00:11<33:53,  4.89it/s]  \n",
      "  1%|          | 57/10000 [00:11<34:04,  4.86it/s]  \n",
      "  1%|          | 57/10000 [00:11<34:14,  4.84it/s]  \n",
      "  1%|          | 58/10000 [00:12<34:38,  4.78it/s]  \n",
      "  1%|          | 57/10000 [00:11<34:48,  4.76it/s]  \n"
     ]
    },
    {
     "name": "stdout",
     "output_type": "stream",
     "text": [
      "Mean Accuracy: 0.9594059405940595\n",
      "Mean F1: 0.5806451612903226\n",
      "Mean Precision: 0.47368421052631576\n",
      "Mean Recall: 0.75\n"
     ]
    }
   ],
   "source": [
    "year_5_Data = myData.importData(year = str(5))\n",
    "processeed_year_5_Data = myData.normalizeAndStandardizeData(data=year_5_Data)\n",
    "\n",
    "discrete_year_5 = myData.discretizeData(rawData=year_5_Data, processedData=processeed_year_5_Data)\n",
    "\n",
    "randomised_discrete_year_5 = discrete_year_5.sample(frac = 1)\n",
    "\n",
    "\n",
    "folds = ModelEvaluation.kfold_indices(data = randomised_discrete_year_5, k = 10 )\n",
    "ModelEvaluation.perfrom_KfoldCrossValidation(folds = folds, data=randomised_discrete_year_5)\n"
   ]
  }
 ],
 "metadata": {
  "kernelspec": {
   "display_name": "Python 3",
   "language": "python",
   "name": "python3"
  },
  "language_info": {
   "codemirror_mode": {
    "name": "ipython",
    "version": 3
   },
   "file_extension": ".py",
   "mimetype": "text/x-python",
   "name": "python",
   "nbconvert_exporter": "python",
   "pygments_lexer": "ipython3",
   "version": "3.12.0"
  }
 },
 "nbformat": 4,
 "nbformat_minor": 2
}
