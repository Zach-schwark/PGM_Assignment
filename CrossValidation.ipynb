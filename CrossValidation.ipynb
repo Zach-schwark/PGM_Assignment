{
 "cells": [
  {
   "cell_type": "markdown",
   "metadata": {},
   "source": [
    "This file is to Evaluate using k-Fold Cross Validation"
   ]
  },
  {
   "cell_type": "code",
   "execution_count": 5,
   "metadata": {},
   "outputs": [],
   "source": [
    "from preprocessing import Preprocessing as myData\n",
    "from ModelEvaluation import ModelEvaluation\n",
    "from pgmpy.readwrite import BIFReader\n",
    "import pandas as pd"
   ]
  },
  {
   "cell_type": "markdown",
   "metadata": {},
   "source": [
    "Import Model"
   ]
  },
  {
   "cell_type": "code",
   "execution_count": 6,
   "metadata": {},
   "outputs": [],
   "source": [
    "reader = BIFReader(\"model.bif\")\n",
    "model = reader.get_model(state_name_type=float)"
   ]
  },
  {
   "cell_type": "markdown",
   "metadata": {},
   "source": [
    "Year 1"
   ]
  },
  {
   "cell_type": "code",
   "execution_count": 7,
   "metadata": {},
   "outputs": [
    {
     "name": "stderr",
     "output_type": "stream",
     "text": [
      "  1%|          | 55/10000 [00:11<34:56,  4.74it/s]  \n",
      "c:\\Users\\zachs\\AppData\\Local\\Programs\\Python\\Python312\\Lib\\site-packages\\sklearn\\metrics\\_classification.py:1509: UndefinedMetricWarning: Precision is ill-defined and being set to 0.0 due to no predicted samples. Use `zero_division` parameter to control this behavior.\n",
      "  _warn_prf(average, modifier, f\"{metric.capitalize()} is\", len(result))\n",
      "  1%|          | 54/10000 [00:11<34:57,  4.74it/s]  \n"
     ]
    },
    {
     "name": "stdout",
     "output_type": "stream",
     "text": [
      "An Error occurred during inference.\n"
     ]
    },
    {
     "name": "stderr",
     "output_type": "stream",
     "text": [
      "  1%|          | 54/10000 [00:11<35:15,  4.70it/s]  \n"
     ]
    },
    {
     "name": "stdout",
     "output_type": "stream",
     "text": [
      "An Error occurred during inference.\n"
     ]
    },
    {
     "name": "stderr",
     "output_type": "stream",
     "text": [
      "  1%|          | 55/10000 [00:12<36:45,  4.51it/s]  \n",
      "c:\\Users\\zachs\\AppData\\Local\\Programs\\Python\\Python312\\Lib\\site-packages\\sklearn\\metrics\\_classification.py:1509: UndefinedMetricWarning: Precision is ill-defined and being set to 0.0 due to no predicted samples. Use `zero_division` parameter to control this behavior.\n",
      "  _warn_prf(average, modifier, f\"{metric.capitalize()} is\", len(result))\n",
      "  1%|          | 55/10000 [00:11<35:41,  4.64it/s]  \n",
      "c:\\Users\\zachs\\AppData\\Local\\Programs\\Python\\Python312\\Lib\\site-packages\\sklearn\\metrics\\_classification.py:1509: UndefinedMetricWarning: Precision is ill-defined and being set to 0.0 due to no predicted samples. Use `zero_division` parameter to control this behavior.\n",
      "  _warn_prf(average, modifier, f\"{metric.capitalize()} is\", len(result))\n",
      "  1%|          | 55/10000 [00:12<37:31,  4.42it/s]  \n",
      "c:\\Users\\zachs\\AppData\\Local\\Programs\\Python\\Python312\\Lib\\site-packages\\sklearn\\metrics\\_classification.py:1509: UndefinedMetricWarning: Precision is ill-defined and being set to 0.0 due to no predicted samples. Use `zero_division` parameter to control this behavior.\n",
      "  _warn_prf(average, modifier, f\"{metric.capitalize()} is\", len(result))\n",
      "  1%|          | 55/10000 [00:11<35:43,  4.64it/s]  \n"
     ]
    },
    {
     "name": "stdout",
     "output_type": "stream",
     "text": [
      "An Error occurred during inference.\n"
     ]
    },
    {
     "name": "stderr",
     "output_type": "stream",
     "text": [
      "  1%|          | 56/10000 [00:12<36:23,  4.55it/s]  \n",
      "c:\\Users\\zachs\\AppData\\Local\\Programs\\Python\\Python312\\Lib\\site-packages\\sklearn\\metrics\\_classification.py:1509: UndefinedMetricWarning: Precision is ill-defined and being set to 0.0 due to no predicted samples. Use `zero_division` parameter to control this behavior.\n",
      "  _warn_prf(average, modifier, f\"{metric.capitalize()} is\", len(result))\n",
      "  1%|          | 55/10000 [00:11<35:55,  4.61it/s]  \n",
      "c:\\Users\\zachs\\AppData\\Local\\Programs\\Python\\Python312\\Lib\\site-packages\\sklearn\\metrics\\_classification.py:1509: UndefinedMetricWarning: Precision is ill-defined and being set to 0.0 due to no predicted samples. Use `zero_division` parameter to control this behavior.\n",
      "  _warn_prf(average, modifier, f\"{metric.capitalize()} is\", len(result))\n",
      "  1%|          | 55/10000 [00:11<35:25,  4.68it/s]  \n"
     ]
    },
    {
     "name": "stdout",
     "output_type": "stream",
     "text": [
      "Mean Accuracy: 0.9923869234214061\n",
      "Mean F1: 0.0\n",
      "Mean Precision: 0.0\n",
      "Mean Recall: 0.0\n"
     ]
    },
    {
     "name": "stderr",
     "output_type": "stream",
     "text": [
      "c:\\Users\\zachs\\AppData\\Local\\Programs\\Python\\Python312\\Lib\\site-packages\\sklearn\\metrics\\_classification.py:1509: UndefinedMetricWarning: Precision is ill-defined and being set to 0.0 due to no predicted samples. Use `zero_division` parameter to control this behavior.\n",
      "  _warn_prf(average, modifier, f\"{metric.capitalize()} is\", len(result))\n"
     ]
    }
   ],
   "source": [
    "year_1_Data = myData.importData(year = str(1))\n",
    "processeed_year_1_Data = myData.normalizeAndStandardizeData(data=year_1_Data)\n",
    "\n",
    "discrete_year_1 = myData.discretizeData(rawData=year_1_Data, processedData=processeed_year_1_Data)\n",
    "\n",
    "randomised_discrete_year_1 = discrete_year_1.sample(frac = 1)\n",
    "\n",
    "\n",
    "folds = ModelEvaluation.kfold_indices(data = randomised_discrete_year_1, k = 10 )\n",
    "ModelEvaluation.perfrom_KfoldCrossValidation(folds = folds, data=randomised_discrete_year_1)"
   ]
  },
  {
   "cell_type": "markdown",
   "metadata": {},
   "source": [
    "Year 2"
   ]
  },
  {
   "cell_type": "code",
   "execution_count": 8,
   "metadata": {},
   "outputs": [
    {
     "name": "stderr",
     "output_type": "stream",
     "text": [
      "  1%|          | 60/10000 [00:12<34:32,  4.80it/s]  \n",
      "  1%|          | 60/10000 [00:12<35:10,  4.71it/s]  \n",
      "c:\\Users\\zachs\\AppData\\Local\\Programs\\Python\\Python312\\Lib\\site-packages\\sklearn\\metrics\\_classification.py:1509: UndefinedMetricWarning: Precision is ill-defined and being set to 0.0 due to no predicted samples. Use `zero_division` parameter to control this behavior.\n",
      "  _warn_prf(average, modifier, f\"{metric.capitalize()} is\", len(result))\n",
      "  1%|          | 62/10000 [00:12<34:14,  4.84it/s]  \n",
      "  1%|          | 61/10000 [00:12<34:27,  4.81it/s]  \n",
      "c:\\Users\\zachs\\AppData\\Local\\Programs\\Python\\Python312\\Lib\\site-packages\\sklearn\\metrics\\_classification.py:1509: UndefinedMetricWarning: Precision is ill-defined and being set to 0.0 due to no predicted samples. Use `zero_division` parameter to control this behavior.\n",
      "  _warn_prf(average, modifier, f\"{metric.capitalize()} is\", len(result))\n",
      "  1%|          | 60/10000 [00:12<35:21,  4.68it/s]  \n",
      "c:\\Users\\zachs\\AppData\\Local\\Programs\\Python\\Python312\\Lib\\site-packages\\sklearn\\metrics\\_classification.py:1509: UndefinedMetricWarning: Precision is ill-defined and being set to 0.0 due to no predicted samples. Use `zero_division` parameter to control this behavior.\n",
      "  _warn_prf(average, modifier, f\"{metric.capitalize()} is\", len(result))\n",
      "  1%|          | 60/10000 [00:12<35:38,  4.65it/s]  \n",
      "  1%|          | 59/10000 [00:12<35:58,  4.61it/s]  \n",
      "  1%|          | 59/10000 [00:12<35:42,  4.64it/s]  \n",
      "c:\\Users\\zachs\\AppData\\Local\\Programs\\Python\\Python312\\Lib\\site-packages\\sklearn\\metrics\\_classification.py:1509: UndefinedMetricWarning: Precision is ill-defined and being set to 0.0 due to no predicted samples. Use `zero_division` parameter to control this behavior.\n",
      "  _warn_prf(average, modifier, f\"{metric.capitalize()} is\", len(result))\n",
      "  1%|          | 61/10000 [00:12<35:13,  4.70it/s]  \n",
      "  1%|          | 61/10000 [00:13<35:21,  4.68it/s]  \n"
     ]
    },
    {
     "name": "stdout",
     "output_type": "stream",
     "text": [
      "Mean Accuracy: 0.9803921568627454\n",
      "Mean F1: 0.0\n",
      "Mean Precision: 0.0\n",
      "Mean Recall: 0.0\n"
     ]
    },
    {
     "name": "stderr",
     "output_type": "stream",
     "text": [
      "c:\\Users\\zachs\\AppData\\Local\\Programs\\Python\\Python312\\Lib\\site-packages\\sklearn\\metrics\\_classification.py:1509: UndefinedMetricWarning: Precision is ill-defined and being set to 0.0 due to no predicted samples. Use `zero_division` parameter to control this behavior.\n",
      "  _warn_prf(average, modifier, f\"{metric.capitalize()} is\", len(result))\n"
     ]
    }
   ],
   "source": [
    "year_2_Data = myData.importData(year = str(2))\n",
    "processeed_year_2_Data = myData.normalizeAndStandardizeData(data=year_2_Data)\n",
    "\n",
    "discrete_year_2 = myData.discretizeData(rawData=year_2_Data, processedData=processeed_year_2_Data)\n",
    "\n",
    "randomised_discrete_year_2 = discrete_year_2.sample(frac = 1)\n",
    "\n",
    "\n",
    "folds = ModelEvaluation.kfold_indices(data = randomised_discrete_year_2, k = 10 )\n",
    "ModelEvaluation.perfrom_KfoldCrossValidation(folds = folds, data=randomised_discrete_year_2)"
   ]
  },
  {
   "cell_type": "markdown",
   "metadata": {},
   "source": [
    "Year 3"
   ]
  },
  {
   "cell_type": "code",
   "execution_count": 9,
   "metadata": {},
   "outputs": [
    {
     "name": "stderr",
     "output_type": "stream",
     "text": [
      "  1%|          | 63/10000 [00:13<34:30,  4.80it/s]  \n",
      "c:\\Users\\zachs\\AppData\\Local\\Programs\\Python\\Python312\\Lib\\site-packages\\sklearn\\metrics\\_classification.py:1509: UndefinedMetricWarning: Precision is ill-defined and being set to 0.0 due to no predicted samples. Use `zero_division` parameter to control this behavior.\n",
      "  _warn_prf(average, modifier, f\"{metric.capitalize()} is\", len(result))\n",
      "  1%|          | 63/10000 [00:13<34:46,  4.76it/s]  \n",
      "c:\\Users\\zachs\\AppData\\Local\\Programs\\Python\\Python312\\Lib\\site-packages\\sklearn\\metrics\\_classification.py:1509: UndefinedMetricWarning: Precision is ill-defined and being set to 0.0 due to no predicted samples. Use `zero_division` parameter to control this behavior.\n",
      "  _warn_prf(average, modifier, f\"{metric.capitalize()} is\", len(result))\n",
      "  1%|          | 62/10000 [00:13<34:57,  4.74it/s]  \n",
      "c:\\Users\\zachs\\AppData\\Local\\Programs\\Python\\Python312\\Lib\\site-packages\\sklearn\\metrics\\_classification.py:1509: UndefinedMetricWarning: Precision is ill-defined and being set to 0.0 due to no predicted samples. Use `zero_division` parameter to control this behavior.\n",
      "  _warn_prf(average, modifier, f\"{metric.capitalize()} is\", len(result))\n",
      "  1%|          | 62/10000 [00:13<35:05,  4.72it/s]  \n",
      "c:\\Users\\zachs\\AppData\\Local\\Programs\\Python\\Python312\\Lib\\site-packages\\sklearn\\metrics\\_classification.py:1509: UndefinedMetricWarning: Precision is ill-defined and being set to 0.0 due to no predicted samples. Use `zero_division` parameter to control this behavior.\n",
      "  _warn_prf(average, modifier, f\"{metric.capitalize()} is\", len(result))\n",
      "  1%|          | 61/10000 [00:12<35:11,  4.71it/s]  \n",
      "c:\\Users\\zachs\\AppData\\Local\\Programs\\Python\\Python312\\Lib\\site-packages\\sklearn\\metrics\\_classification.py:1509: UndefinedMetricWarning: Precision is ill-defined and being set to 0.0 due to no predicted samples. Use `zero_division` parameter to control this behavior.\n",
      "  _warn_prf(average, modifier, f\"{metric.capitalize()} is\", len(result))\n",
      "  1%|          | 62/10000 [00:12<34:37,  4.78it/s]  \n",
      "c:\\Users\\zachs\\AppData\\Local\\Programs\\Python\\Python312\\Lib\\site-packages\\sklearn\\metrics\\_classification.py:1509: UndefinedMetricWarning: Precision is ill-defined and being set to 0.0 due to no predicted samples. Use `zero_division` parameter to control this behavior.\n",
      "  _warn_prf(average, modifier, f\"{metric.capitalize()} is\", len(result))\n",
      "  1%|          | 63/10000 [00:13<35:51,  4.62it/s]  \n",
      "c:\\Users\\zachs\\AppData\\Local\\Programs\\Python\\Python312\\Lib\\site-packages\\sklearn\\metrics\\_classification.py:1509: UndefinedMetricWarning: Precision is ill-defined and being set to 0.0 due to no predicted samples. Use `zero_division` parameter to control this behavior.\n",
      "  _warn_prf(average, modifier, f\"{metric.capitalize()} is\", len(result))\n",
      "  1%|          | 63/10000 [00:13<36:06,  4.59it/s]  \n",
      "c:\\Users\\zachs\\AppData\\Local\\Programs\\Python\\Python312\\Lib\\site-packages\\sklearn\\metrics\\_classification.py:1509: UndefinedMetricWarning: Precision is ill-defined and being set to 0.0 due to no predicted samples. Use `zero_division` parameter to control this behavior.\n",
      "  _warn_prf(average, modifier, f\"{metric.capitalize()} is\", len(result))\n",
      "  1%|          | 63/10000 [00:13<35:23,  4.68it/s]  \n",
      "c:\\Users\\zachs\\AppData\\Local\\Programs\\Python\\Python312\\Lib\\site-packages\\sklearn\\metrics\\_classification.py:1509: UndefinedMetricWarning: Precision is ill-defined and being set to 0.0 due to no predicted samples. Use `zero_division` parameter to control this behavior.\n",
      "  _warn_prf(average, modifier, f\"{metric.capitalize()} is\", len(result))\n",
      "  1%|          | 62/10000 [00:13<35:38,  4.65it/s]  \n"
     ]
    },
    {
     "name": "stdout",
     "output_type": "stream",
     "text": [
      "Mean Accuracy: 0.9780737704918033\n",
      "Mean F1: 0.0\n",
      "Mean Precision: 0.0\n",
      "Mean Recall: 0.0\n"
     ]
    },
    {
     "name": "stderr",
     "output_type": "stream",
     "text": [
      "c:\\Users\\zachs\\AppData\\Local\\Programs\\Python\\Python312\\Lib\\site-packages\\sklearn\\metrics\\_classification.py:1509: UndefinedMetricWarning: Precision is ill-defined and being set to 0.0 due to no predicted samples. Use `zero_division` parameter to control this behavior.\n",
      "  _warn_prf(average, modifier, f\"{metric.capitalize()} is\", len(result))\n"
     ]
    }
   ],
   "source": [
    "year_3_Data = myData.importData(year = str(3))\n",
    "processeed_year_3_Data = myData.normalizeAndStandardizeData(data=year_3_Data)\n",
    "\n",
    "discrete_year_3 = myData.discretizeData(rawData=year_3_Data, processedData=processeed_year_3_Data)\n",
    "\n",
    "randomised_discrete_year_3 = discrete_year_3.sample(frac = 1)\n",
    "\n",
    "\n",
    "folds = ModelEvaluation.kfold_indices(data = randomised_discrete_year_3, k = 10 )\n",
    "ModelEvaluation.perfrom_KfoldCrossValidation(folds = folds, data=randomised_discrete_year_3)"
   ]
  },
  {
   "cell_type": "markdown",
   "metadata": {},
   "source": [
    "Year 4"
   ]
  },
  {
   "cell_type": "code",
   "execution_count": 10,
   "metadata": {},
   "outputs": [
    {
     "name": "stderr",
     "output_type": "stream",
     "text": [
      "  1%|          | 60/10000 [00:12<35:09,  4.71it/s]  \n",
      "  1%|          | 61/10000 [00:12<34:51,  4.75it/s]  \n",
      "  1%|          | 61/10000 [00:13<36:50,  4.50it/s]  \n",
      "  1%|          | 60/10000 [00:13<37:17,  4.44it/s]  \n",
      "  1%|          | 59/10000 [00:12<36:22,  4.55it/s]  \n",
      "  1%|          | 60/10000 [00:13<36:21,  4.56it/s]  \n",
      "  1%|          | 61/10000 [00:13<35:58,  4.61it/s]  \n",
      "  1%|          | 59/10000 [00:12<36:11,  4.58it/s]  \n",
      "  1%|          | 61/10000 [00:13<36:13,  4.57it/s]  \n",
      "  1%|          | 59/10000 [00:13<37:27,  4.42it/s]  \n"
     ]
    },
    {
     "name": "stdout",
     "output_type": "stream",
     "text": [
      "Mean Accuracy: 0.9718487394957982\n",
      "Mean F1: 0.5714285714285714\n",
      "Mean Precision: 0.75\n",
      "Mean Recall: 0.46153846153846156\n"
     ]
    }
   ],
   "source": [
    "year_4_Data = myData.importData(year = str(4))\n",
    "processeed_year_4_Data = myData.normalizeAndStandardizeData(data=year_4_Data)\n",
    "\n",
    "discrete_year_4 = myData.discretizeData(rawData=year_4_Data, processedData=processeed_year_4_Data)\n",
    "\n",
    "randomised_discrete_year_4 = discrete_year_4.sample(frac = 1)\n",
    "\n",
    "\n",
    "folds = ModelEvaluation.kfold_indices(data = randomised_discrete_year_4, k = 10 )\n",
    "ModelEvaluation.perfrom_KfoldCrossValidation(folds = folds, data=randomised_discrete_year_4)"
   ]
  },
  {
   "cell_type": "markdown",
   "metadata": {},
   "source": [
    "Year 5"
   ]
  },
  {
   "cell_type": "code",
   "execution_count": 11,
   "metadata": {},
   "outputs": [
    {
     "name": "stderr",
     "output_type": "stream",
     "text": [
      "  1%|          | 56/10000 [00:12<36:21,  4.56it/s]  \n",
      "  1%|          | 57/10000 [00:11<33:20,  4.97it/s]  \n",
      "  1%|          | 57/10000 [00:11<33:14,  4.98it/s]  \n",
      "  1%|          | 58/10000 [00:11<32:33,  5.09it/s]  \n",
      "  1%|          | 58/10000 [00:11<32:39,  5.07it/s]  \n",
      "  1%|          | 54/10000 [00:11<35:18,  4.69it/s]  \n",
      "  1%|          | 57/10000 [00:12<34:58,  4.74it/s]  \n",
      "  1%|          | 55/10000 [00:11<35:02,  4.73it/s]  \n",
      "  1%|          | 56/10000 [00:11<34:39,  4.78it/s]  \n",
      "  1%|          | 56/10000 [00:11<34:49,  4.76it/s]  \n"
     ]
    },
    {
     "name": "stdout",
     "output_type": "stream",
     "text": [
      "Mean Accuracy: 0.9617161716171617\n",
      "Mean F1: 0.6666666666666666\n",
      "Mean Precision: 0.6153846153846154\n",
      "Mean Recall: 0.7272727272727273\n"
     ]
    }
   ],
   "source": [
    "year_5_Data = myData.importData(year = str(5))\n",
    "processeed_year_5_Data = myData.normalizeAndStandardizeData(data=year_5_Data)\n",
    "\n",
    "discrete_year_5 = myData.discretizeData(rawData=year_5_Data, processedData=processeed_year_5_Data)\n",
    "\n",
    "randomised_discrete_year_5 = discrete_year_5.sample(frac = 1)\n",
    "\n",
    "\n",
    "folds = ModelEvaluation.kfold_indices(data = randomised_discrete_year_5, k = 10 )\n",
    "ModelEvaluation.perfrom_KfoldCrossValidation(folds = folds, data=randomised_discrete_year_5)\n"
   ]
  }
 ],
 "metadata": {
  "kernelspec": {
   "display_name": "Python 3",
   "language": "python",
   "name": "python3"
  },
  "language_info": {
   "codemirror_mode": {
    "name": "ipython",
    "version": 3
   },
   "file_extension": ".py",
   "mimetype": "text/x-python",
   "name": "python",
   "nbconvert_exporter": "python",
   "pygments_lexer": "ipython3",
   "version": "3.12.0"
  }
 },
 "nbformat": 4,
 "nbformat_minor": 2
}
